{
  "cells": [
    {
      "cell_type": "code",
      "execution_count": null,
      "id": "4d532109-6834-4034-9474-e073ecea728d",
      "metadata": {
        "id": "4d532109-6834-4034-9474-e073ecea728d"
      },
      "outputs": [],
      "source": [
        "import torch\n",
        "from transformers import AutoTokenizer, AutoModelForCausalLM, TrainingArguments, Trainer, DataCollatorForLanguageModeling, TrainerCallback, TrainerState, TrainerControl\n",
        "from peft import get_peft_model, LoraConfig, TaskType\n",
        "from datasets import load_dataset\n",
        "# from transformers import Trainer\n",
        "from transformers.integrations import TensorBoardCallback\n",
        "import os\n",
        "os.environ[\"TOKENIZERS_PARALLELISM\"] = \"false\"\n"
      ]
    },
    {
      "cell_type": "markdown",
      "source": [
        "# Params"
      ],
      "metadata": {
        "id": "jnjWYWkfHblY"
      },
      "id": "jnjWYWkfHblY"
    },
    {
      "cell_type": "code",
      "execution_count": null,
      "id": "03726aff-ac4a-4590-b4e4-0c8d3d9d9200",
      "metadata": {
        "id": "03726aff-ac4a-4590-b4e4-0c8d3d9d9200"
      },
      "outputs": [],
      "source": [
        "base = \"/data/huggingface/meta/Llama-3.2-1B\""
      ]
    },
    {
      "cell_type": "code",
      "source": [
        "tokenizer = AutoTokenizer.from_pretrained(model_id)\n",
        "tokenizer.pad_token = tokenizer.eos_token\n",
        "\n",
        "base_model = AutoModelForCausalLM.from_pretrained(\n",
        "    model_id,\n",
        "    torch_dtype=torch.float32,\n",
        "    device_map=None\n",
        ")"
      ],
      "metadata": {
        "id": "VYqa467-HgN-"
      },
      "id": "VYqa467-HgN-",
      "execution_count": null,
      "outputs": []
    },
    {
      "cell_type": "code",
      "execution_count": null,
      "id": "175ed6a4-c475-4dbe-9386-fb7fb95d7bc9",
      "metadata": {
        "id": "175ed6a4-c475-4dbe-9386-fb7fb95d7bc9",
        "outputId": "d1d00ac4-bbdb-4592-c4a7-0113e24947c5"
      },
      "outputs": [
        {
          "name": "stderr",
          "output_type": "stream",
          "text": [
            "/opt/jupyter/lib/python3.10/site-packages/peft/mapping_func.py:73: UserWarning: You are trying to modify a model with PEFT for a second time. If you want to reload the model with a different config, make sure to call `.unload()` before.\n",
            "  warnings.warn(\n",
            "/opt/jupyter/lib/python3.10/site-packages/peft/tuners/tuners_utils.py:167: UserWarning: Already found a `peft_config` attribute in the model. This will lead to having multiple adapters in the model. Make sure to know what you are doing!\n",
            "  warnings.warn(\n",
            "Map: 100%|██████████| 200/200 [00:00<00:00, 1201.80 examples/s]\n"
          ]
        }
      ],
      "source": [
        "# Конфигурация QLoRA\n",
        "lora_config = LoraConfig(\n",
        "    r=8,\n",
        "    lora_alpha=16,\n",
        "    target_modules=[\"q_proj\", \"v_proj\"],\n",
        "    lora_dropout=0.1,\n",
        "    bias=\"none\",\n",
        "    task_type=TaskType.CAUSAL_LM,\n",
        ")\n",
        "\n",
        "model = get_peft_model(base_model, lora_config)\n",
        "# model.gradient_checkpointing_enable()\n",
        "\n",
        "# Загрузка и токенизация\n",
        "dataset = load_dataset(\"csv\", data_files=\"csv/traindataset_comma.csv\")[\"train\"].select(range(200))  # 20k\n",
        "\n",
        "def tokenize(example):\n",
        "    full_text = f\"{example['instruction']}\\n{example['output']}\"\n",
        "    return tokenizer(full_text, truncation=True, padding=\"max_length\", max_length=256)\n",
        "\n",
        "tokenized_ds = dataset.map(tokenize)"
      ]
    },
    {
      "cell_type": "markdown",
      "source": [
        "## Training args"
      ],
      "metadata": {
        "id": "T_K86a8zJI4O"
      },
      "id": "T_K86a8zJI4O"
    },
    {
      "cell_type": "code",
      "source": [
        "per_device_train_batch_size = 4\n",
        "gradient_accumulation_steps = 8\n",
        "optim = 'adamw_torch'\n",
        "learning_rate = 2e-4\n",
        "max_grad_norm = 1\n",
        "warmup_ratio = 0.03\n",
        "lr_scheduler_type = \"linear\"\n",
        "dataloader_num_workers=8\n",
        "logging_dir = \"./logs/Llama-3.2-1B_FT_0.2\""
      ],
      "metadata": {
        "id": "1QP7LYl1HuFz"
      },
      "id": "1QP7LYl1HuFz",
      "execution_count": null,
      "outputs": []
    },
    {
      "cell_type": "markdown",
      "source": [
        "# Functions"
      ],
      "metadata": {
        "id": "VGW7BYi8Hgvo"
      },
      "id": "VGW7BYi8Hgvo"
    },
    {
      "cell_type": "code",
      "execution_count": null,
      "id": "a2b36e30-7cbc-4478-a081-704f9187a0a0",
      "metadata": {
        "id": "a2b36e30-7cbc-4478-a081-704f9187a0a0"
      },
      "outputs": [],
      "source": [
        "from transformers import TrainerCallback\n",
        "\n",
        "class CSVStepLogger(TrainerCallback):\n",
        "    def __init__(self, out_dir=\"./logs/qlora\", fname=\"metrics.csv\"):\n",
        "        os.makedirs(out_dir, exist_ok=True)\n",
        "        self.fpath = os.path.join(out_dir, fname)\n",
        "        self.fieldnames = None          # будем пополнять\n",
        "\n",
        "    def _write_header(self):\n",
        "        with open(self.fpath, \"w\", newline=\"\") as f:\n",
        "            csv.DictWriter(f, self.fieldnames).writeheader()\n",
        "\n",
        "    def on_log(self, args, state, control, logs=None, **kwargs):\n",
        "        if logs is None:\n",
        "            return\n",
        "        # добавляем гарантированные step/epoch\n",
        "        logs = {\"step\": state.global_step,\n",
        "                \"epoch\": state.epoch,\n",
        "                **logs}\n",
        "\n",
        "        # первый вызов или появились новые ключи → обновить header\n",
        "        updated = False\n",
        "        if self.fieldnames is None:\n",
        "            self.fieldnames = list(logs.keys())\n",
        "            updated = True\n",
        "        else:\n",
        "            for k in logs:\n",
        "                if k not in self.fieldnames:\n",
        "                    self.fieldnames.append(k)\n",
        "                    updated = True\n",
        "        if updated:\n",
        "            self._write_header()        # переписываем заголовок\n",
        "\n",
        "        # дописываем строку\n",
        "        with open(self.fpath, \"a\", newline=\"\") as f:\n",
        "            writer = csv.DictWriter(\n",
        "                f, fieldnames=self.fieldnames, extrasaction=\"ignore\"\n",
        "            )\n",
        "            writer.writerow(logs)"
      ]
    },
    {
      "cell_type": "code",
      "execution_count": null,
      "id": "28a30c4a-66c8-4a5f-a7e9-77b4b33749b0",
      "metadata": {
        "id": "28a30c4a-66c8-4a5f-a7e9-77b4b33749b0",
        "outputId": "3cfd5a05-f186-4057-b410-08e65a7c4710"
      },
      "outputs": [
        {
          "name": "stdout",
          "output_type": "stream",
          "text": [
            "steps/epoch: 16,  total steps: 48\n"
          ]
        }
      ],
      "source": [
        "import math\n",
        "\n",
        "n_samples = 1000\n",
        "# те же значения, что вы передали в TrainingArguments\n",
        "per_device_train_batch_size   = 8      # пример\n",
        "gradient_accumulation_steps   = 8      # пример\n",
        "num_train_epochs              = 3      # ← добавляем!\n",
        "\n",
        "def countSPE(per_device_train_batch_size, gradient_accumulation_steps, num_train_epochs):\n",
        "  eff_bs = per_device_train_batch_size * gradient_accumulation_steps\n",
        "  steps_per_epoch = math.ceil(n_samples / eff_bs)\n",
        "  total_steps = steps_per_epoch * num_train_epochs\n",
        "\n",
        "  print(f\"steps/epoch: {steps_per_epoch},  total steps: {total_steps}\")"
      ]
    },
    {
      "cell_type": "markdown",
      "source": [
        "# Train"
      ],
      "metadata": {
        "id": "ZdxMI6NuHwxC"
      },
      "id": "ZdxMI6NuHwxC"
    },
    {
      "cell_type": "code",
      "execution_count": null,
      "id": "057bfcd0-0257-4075-8f81-8a223e4d2d0e",
      "metadata": {
        "id": "057bfcd0-0257-4075-8f81-8a223e4d2d0e",
        "outputId": "0991949f-c8af-406d-eb70-2f3862d7c8d4"
      },
      "outputs": [
        {
          "name": "stderr",
          "output_type": "stream",
          "text": [
            "PyTorch: setting up devices\n",
            "No label_names provided for model class `PeftModelForCausalLM`. Since `PeftModel` hides base models input arguments, if label_names is not given, label_names can't be set automatically within `Trainer`. Note that empty label_names list will be used instead.\n"
          ]
        }
      ],
      "source": [
        "\n",
        "training_args = TrainingArguments(\n",
        "    # ─── catalogue ─────────────────────────────────────────────────────────\n",
        "    output_dir              = \"./qlora/Llama-3.2-1B_FT_0.2\",\n",
        "    logging_dir             = logging_dir,\n",
        "\n",
        "    # ─── контроль чек-пойнтов ──────────────────────────────────────────────\n",
        "    save_strategy           = \"epoch\",       # 1 × эпоха = 32 шага\n",
        "    save_total_limit        = 3,             # храним только 3 лучших\n",
        "    # load_best_model_at_end  = True,\n",
        "    metric_for_best_model   = \"eval_loss\",\n",
        "\n",
        "    # ─── логирование и валидация ───────────────────────────────────────────\n",
        "    logging_strategy        = \"steps\",\n",
        "    logging_steps           = 5,\n",
        "    # evaluation_strategy   = \"epoch\",      # return error\n",
        "\n",
        "    # ─── обучение ──────────────────────────────────────────────────────────\n",
        "    num_train_epochs        = 3,\n",
        "    per_device_train_batch_size = per_device_train_batch_size,\n",
        "    gradient_accumulation_steps = gradient_accumulation_steps,\n",
        "    group_by_length         = True,\n",
        "\n",
        "    # ─── оптимизатор и расписание ──────────────────────────────────────────\n",
        "    optim                   = optim,\n",
        "    learning_rate           = learning_rate,\n",
        "    weight_decay            = 0.01,          # лёгкая регуляризация\n",
        "    max_grad_norm           = max_grad_norm,\n",
        "    warmup_ratio            = warmup_ratio,\n",
        "    lr_scheduler_type       = lr_scheduler_type,\n",
        "\n",
        "    # ─── железо ────────────────────────────────────────────────────────────\n",
        "    fp16                    = False,         # CPU ⇒ fp32\n",
        "    bf16                    = False,\n",
        "    use_cpu                 = True,          # no_cuda=True\n",
        "    dataloader_num_workers  = dataloader_num_workers,\n",
        "\n",
        "    # ─── телеметрия ────────────────────────────────────────────────────────\n",
        "    report_to               = \"none\",\n",
        ")\n",
        "\n",
        "\"\"\"\n",
        "`tokenizer` is deprecated and will be removed in version 5.0.0 for `Trainer.__init__`. Use `processing_class` instead.\n",
        "\"\"\"\n",
        "trainer = Trainer(\n",
        "    model=model,\n",
        "    args=training_args,\n",
        "    train_dataset=tokenized_ds,\n",
        "    data_collator=DataCollatorForLanguageModeling(tokenizer, mlm=False),\n",
        "    processing_class=tokenizer,\n",
        "    callbacks=[CSVStepLogger(logging_dir, \"Llama-3.2-1B_FT_0.2.csv\")],\n",
        ")"
      ]
    },
    {
      "cell_type": "code",
      "execution_count": null,
      "id": "edef82d2-3558-41a6-8ae7-36b4daeabae4",
      "metadata": {
        "collapsed": true,
        "id": "edef82d2-3558-41a6-8ae7-36b4daeabae4",
        "outputId": "56cf2117-828f-42cc-c224-b05a5c57e2c1"
      },
      "outputs": [
        {
          "name": "stderr",
          "output_type": "stream",
          "text": [
            "The following columns in the training set don't have a corresponding argument in `PeftModelForCausalLM.forward` and have been ignored: input, output, instruction. If input, output, instruction are not expected by `PeftModelForCausalLM.forward`,  you can safely ignore this message.\n",
            "***** Running training *****\n",
            "  Num examples = 200\n",
            "  Num Epochs = 3\n",
            "  Instantaneous batch size per device = 4\n",
            "  Total train batch size (w. parallel, distributed & accumulation) = 32\n",
            "  Gradient Accumulation steps = 8\n",
            "  Total optimization steps = 18\n",
            "  Number of trainable parameters = 851,968\n"
          ]
        },
        {
          "data": {
            "text/html": [
              "\n",
              "    <div>\n",
              "      \n",
              "      <progress value='18' max='18' style='width:300px; height:20px; vertical-align: middle;'></progress>\n",
              "      [18/18 54:32, Epoch 2/3]\n",
              "    </div>\n",
              "    <table border=\"1\" class=\"dataframe\">\n",
              "  <thead>\n",
              " <tr style=\"text-align: left;\">\n",
              "      <th>Step</th>\n",
              "      <th>Training Loss</th>\n",
              "    </tr>\n",
              "  </thead>\n",
              "  <tbody>\n",
              "    <tr>\n",
              "      <td>10</td>\n",
              "      <td>1.955900</td>\n",
              "    </tr>\n",
              "  </tbody>\n",
              "</table><p>"
            ],
            "text/plain": [
              "<IPython.core.display.HTML object>"
            ]
          },
          "metadata": {},
          "output_type": "display_data"
        },
        {
          "name": "stderr",
          "output_type": "stream",
          "text": [
            "Saving model checkpoint to ./qlora/Llama-3.2-1B_FT_0.2/checkpoint-7\n",
            "loading configuration file /data/huggingface/meta/Llama-3.2-1B/config.json\n",
            "Model config LlamaConfig {\n",
            "  \"architectures\": [\n",
            "    \"LlamaForCausalLM\"\n",
            "  ],\n",
            "  \"attention_bias\": false,\n",
            "  \"attention_dropout\": 0.0,\n",
            "  \"bos_token_id\": 128000,\n",
            "  \"eos_token_id\": 128001,\n",
            "  \"head_dim\": 64,\n",
            "  \"hidden_act\": \"silu\",\n",
            "  \"hidden_size\": 2048,\n",
            "  \"initializer_range\": 0.02,\n",
            "  \"intermediate_size\": 8192,\n",
            "  \"max_position_embeddings\": 131072,\n",
            "  \"mlp_bias\": false,\n",
            "  \"model_type\": \"llama\",\n",
            "  \"num_attention_heads\": 32,\n",
            "  \"num_hidden_layers\": 16,\n",
            "  \"num_key_value_heads\": 8,\n",
            "  \"pretraining_tp\": 1,\n",
            "  \"rms_norm_eps\": 1e-05,\n",
            "  \"rope_scaling\": {\n",
            "    \"factor\": 32.0,\n",
            "    \"high_freq_factor\": 4.0,\n",
            "    \"low_freq_factor\": 1.0,\n",
            "    \"original_max_position_embeddings\": 8192,\n",
            "    \"rope_type\": \"llama3\"\n",
            "  },\n",
            "  \"rope_theta\": 500000.0,\n",
            "  \"tie_word_embeddings\": true,\n",
            "  \"torch_dtype\": \"bfloat16\",\n",
            "  \"transformers_version\": \"4.51.2\",\n",
            "  \"use_cache\": true,\n",
            "  \"vocab_size\": 128256\n",
            "}\n",
            "\n",
            "tokenizer config file saved in ./qlora/Llama-3.2-1B_FT_0.2/checkpoint-7/tokenizer_config.json\n",
            "Special tokens file saved in ./qlora/Llama-3.2-1B_FT_0.2/checkpoint-7/special_tokens_map.json\n",
            "Saving model checkpoint to ./qlora/Llama-3.2-1B_FT_0.2/checkpoint-14\n",
            "loading configuration file /data/huggingface/meta/Llama-3.2-1B/config.json\n",
            "Model config LlamaConfig {\n",
            "  \"architectures\": [\n",
            "    \"LlamaForCausalLM\"\n",
            "  ],\n",
            "  \"attention_bias\": false,\n",
            "  \"attention_dropout\": 0.0,\n",
            "  \"bos_token_id\": 128000,\n",
            "  \"eos_token_id\": 128001,\n",
            "  \"head_dim\": 64,\n",
            "  \"hidden_act\": \"silu\",\n",
            "  \"hidden_size\": 2048,\n",
            "  \"initializer_range\": 0.02,\n",
            "  \"intermediate_size\": 8192,\n",
            "  \"max_position_embeddings\": 131072,\n",
            "  \"mlp_bias\": false,\n",
            "  \"model_type\": \"llama\",\n",
            "  \"num_attention_heads\": 32,\n",
            "  \"num_hidden_layers\": 16,\n",
            "  \"num_key_value_heads\": 8,\n",
            "  \"pretraining_tp\": 1,\n",
            "  \"rms_norm_eps\": 1e-05,\n",
            "  \"rope_scaling\": {\n",
            "    \"factor\": 32.0,\n",
            "    \"high_freq_factor\": 4.0,\n",
            "    \"low_freq_factor\": 1.0,\n",
            "    \"original_max_position_embeddings\": 8192,\n",
            "    \"rope_type\": \"llama3\"\n",
            "  },\n",
            "  \"rope_theta\": 500000.0,\n",
            "  \"tie_word_embeddings\": true,\n",
            "  \"torch_dtype\": \"bfloat16\",\n",
            "  \"transformers_version\": \"4.51.2\",\n",
            "  \"use_cache\": true,\n",
            "  \"vocab_size\": 128256\n",
            "}\n",
            "\n",
            "tokenizer config file saved in ./qlora/Llama-3.2-1B_FT_0.2/checkpoint-14/tokenizer_config.json\n",
            "Special tokens file saved in ./qlora/Llama-3.2-1B_FT_0.2/checkpoint-14/special_tokens_map.json\n",
            "Saving model checkpoint to ./qlora/Llama-3.2-1B_FT_0.2/checkpoint-18\n",
            "loading configuration file /data/huggingface/meta/Llama-3.2-1B/config.json\n",
            "Model config LlamaConfig {\n",
            "  \"architectures\": [\n",
            "    \"LlamaForCausalLM\"\n",
            "  ],\n",
            "  \"attention_bias\": false,\n",
            "  \"attention_dropout\": 0.0,\n",
            "  \"bos_token_id\": 128000,\n",
            "  \"eos_token_id\": 128001,\n",
            "  \"head_dim\": 64,\n",
            "  \"hidden_act\": \"silu\",\n",
            "  \"hidden_size\": 2048,\n",
            "  \"initializer_range\": 0.02,\n",
            "  \"intermediate_size\": 8192,\n",
            "  \"max_position_embeddings\": 131072,\n",
            "  \"mlp_bias\": false,\n",
            "  \"model_type\": \"llama\",\n",
            "  \"num_attention_heads\": 32,\n",
            "  \"num_hidden_layers\": 16,\n",
            "  \"num_key_value_heads\": 8,\n",
            "  \"pretraining_tp\": 1,\n",
            "  \"rms_norm_eps\": 1e-05,\n",
            "  \"rope_scaling\": {\n",
            "    \"factor\": 32.0,\n",
            "    \"high_freq_factor\": 4.0,\n",
            "    \"low_freq_factor\": 1.0,\n",
            "    \"original_max_position_embeddings\": 8192,\n",
            "    \"rope_type\": \"llama3\"\n",
            "  },\n",
            "  \"rope_theta\": 500000.0,\n",
            "  \"tie_word_embeddings\": true,\n",
            "  \"torch_dtype\": \"bfloat16\",\n",
            "  \"transformers_version\": \"4.51.2\",\n",
            "  \"use_cache\": true,\n",
            "  \"vocab_size\": 128256\n",
            "}\n",
            "\n",
            "tokenizer config file saved in ./qlora/Llama-3.2-1B_FT_0.2/checkpoint-18/tokenizer_config.json\n",
            "Special tokens file saved in ./qlora/Llama-3.2-1B_FT_0.2/checkpoint-18/special_tokens_map.json\n",
            "\n",
            "\n",
            "Training completed. Do not forget to share your model on huggingface.co/models =)\n",
            "\n",
            "\n"
          ]
        },
        {
          "data": {
            "text/plain": [
              "TrainOutput(global_step=18, training_loss=1.904447661505805, metrics={'train_runtime': 3496.5085, 'train_samples_per_second': 0.172, 'train_steps_per_second': 0.005, 'total_flos': 789920234864640.0, 'train_loss': 1.904447661505805, 'epoch': 2.64})"
            ]
          },
          "execution_count": 57,
          "metadata": {},
          "output_type": "execute_result"
        }
      ],
      "source": [
        "trainer.train()"
      ]
    },
    {
      "cell_type": "code",
      "execution_count": null,
      "id": "9eafbf8e-052e-4af2-a2f3-013b663855a1",
      "metadata": {
        "id": "9eafbf8e-052e-4af2-a2f3-013b663855a1"
      },
      "outputs": [],
      "source": [
        "%matplotlib inline"
      ]
    },
    {
      "cell_type": "code",
      "execution_count": null,
      "id": "91c52d7d-75e6-4954-9c87-6a78fad6eb49",
      "metadata": {
        "id": "91c52d7d-75e6-4954-9c87-6a78fad6eb49",
        "outputId": "17167ee7-2505-4b6d-a8e1-476a46a7bd98"
      },
      "outputs": [
        {
          "data": {
            "image/png": "[encoded data removed]",
            "text/plain": [
              "<Figure size 800x400 with 1 Axes>"
            ]
          },
          "metadata": {},
          "output_type": "display_data"
        },
        {
          "name": "stdout",
          "output_type": "stream",
          "text": [
            "Average training loss: 1.8114\n",
            "Last training loss:    1.7601\n"
          ]
        }
      ],
      "source": [
        "import pandas as pd\n",
        "import matplotlib.pyplot as plt\n",
        "\n",
        "# Adjust the path if needed\n",
        "csv_path = \"./logs/qlora/metrics.csv\"\n",
        "\n",
        "# Load metrics\n",
        "df = pd.read_csv(csv_path)\n",
        "\n",
        "# Select rows where training loss is available\n",
        "df_loss = df[df[\"loss\"].notna()].copy()\n",
        "\n",
        "# Compute statistics\n",
        "avg_loss = df_loss[\"loss\"].mean()\n",
        "last_loss = df_loss[\"loss\"].iloc[-1]\n",
        "\n",
        "# Plot\n",
        "fig, ax = plt.subplots(figsize=(8, 4))\n",
        "ax.plot(df_loss[\"step\"], df_loss[\"loss\"], label=\"Train loss\")\n",
        "\n",
        "# Add average loss line\n",
        "ax.axhline(avg_loss, linestyle=\":\", label=f\"Average loss = {avg_loss:.4f}\")\n",
        "\n",
        "# Mark last loss point\n",
        "ax.plot(df_loss[\"step\"].iloc[-1], last_loss, \"ro\", label=f\"Last loss = {last_loss:.4f}\")\n",
        "\n",
        "# Plot eval loss if available\n",
        "if \"eval_loss\" in df.columns and df[\"eval_loss\"].notna().any():\n",
        "    ax.plot(df[\"step\"], df[\"eval_loss\"], linestyle=\"--\", label=\"Eval loss\")\n",
        "\n",
        "ax.set_xlabel(\"Step\")\n",
        "ax.set_ylabel(\"Loss\")\n",
        "ax.set_title(\"Training loss vs. step\")\n",
        "ax.grid(True)\n",
        "ax.legend(loc=\"best\")\n",
        "plt.tight_layout()\n",
        "plt.show()\n",
        "\n",
        "# Print summary statistics\n",
        "print(f\"Average training loss: {avg_loss:.4f}\")\n",
        "print(f\"Last training loss:    {last_loss:.4f}\")"
      ]
    },
    {
      "cell_type": "markdown",
      "source": [
        "# Test model"
      ],
      "metadata": {
        "id": "2papl5E_H6RN"
      },
      "id": "2papl5E_H6RN"
    },
    {
      "cell_type": "code",
      "execution_count": null,
      "id": "6f021544-a982-4080-bffe-a79bb73f6719",
      "metadata": {
        "id": "6f021544-a982-4080-bffe-a79bb73f6719",
        "outputId": "40f3722c-daf6-4409-aebe-781ac700afe0"
      },
      "outputs": [
        {
          "name": "stderr",
          "output_type": "stream",
          "text": [
            "The attention mask is not set and cannot be inferred from input because pad token is same as eos token. As a consequence, you may observe unexpected behavior. Please pass your input's `attention_mask` to obtain reliable results.\n"
          ]
        },
        {
          "name": "stdout",
          "output_type": "stream",
          "text": [
            "Вопрос: Что такое налоги?\n",
            "Ответ: Что такое налоги? Какие налоги в России? Какие налоги в России для индивидуального предпринимателя? Какие налоги в России для физических лиц? Какие налоги в России для юридических лиц? Какие налоги в России для индивидуальных предпринимателей? Какие налоги в России для физических лиц? Какие налоги в России для юридических лиц? Какие налоги в России для индивидуальных пред\n"
          ]
        }
      ],
      "source": [
        "# Путь к твоей модели\n",
        "model_path = \"./final_model\"  # <-- если ты скопировал checkpoint-750 в final_model\n",
        "\n",
        "# Загружаем модель и токенизатор\n",
        "tokenizer = AutoTokenizer.from_pretrained(model_path)\n",
        "model = AutoModelForCausalLM.from_pretrained(model_path, torch_dtype=torch.float32, device_map=\"auto\")\n",
        "\n",
        "# Функция генерации ответа\n",
        "def generate_response(prompt, max_new_tokens=100):\n",
        "    inputs = tokenizer(prompt, return_tensors=\"pt\")\n",
        "    input_ids = inputs[\"input_ids\"]\n",
        "\n",
        "    # Генерация\n",
        "    with torch.no_grad():\n",
        "        output = model.generate(\n",
        "            input_ids,\n",
        "            max_new_tokens=max_new_tokens,\n",
        "            do_sample=True,\n",
        "            temperature=0.5,\n",
        "            top_p=0.9,\n",
        "            top_k=50,\n",
        "            pad_token_id=tokenizer.eos_token_id\n",
        "        )\n",
        "    # Декодируем ответ\n",
        "    response = tokenizer.decode(output[0], skip_special_tokens=True)\n",
        "    return response\n",
        "\n",
        "# Пример работы\n",
        "user_prompt = \"Что такое налоги?\"\n",
        "response = generate_response(user_prompt)\n",
        "print(f\"Вопрос: {user_prompt}\\nОтвет: {response}\")"
      ]
    },
    {
      "cell_type": "markdown",
      "source": [
        "# Merge model"
      ],
      "metadata": {
        "id": "iEZQ22e5IGGq"
      },
      "id": "iEZQ22e5IGGq"
    },
    {
      "cell_type": "code",
      "execution_count": null,
      "id": "098cea7b-cca0-4133-89d9-7aa0b5999d60",
      "metadata": {
        "id": "098cea7b-cca0-4133-89d9-7aa0b5999d60",
        "outputId": "86795a72-bd0e-4d27-e31e-0aff4bf20033"
      },
      "outputs": [
        {
          "name": "stderr",
          "output_type": "stream",
          "text": [
            "loading configuration file /data/huggingface/meta/Llama-3.2-1B/config.json\n",
            "Model config LlamaConfig {\n",
            "  \"architectures\": [\n",
            "    \"LlamaForCausalLM\"\n",
            "  ],\n",
            "  \"attention_bias\": false,\n",
            "  \"attention_dropout\": 0.0,\n",
            "  \"bos_token_id\": 128000,\n",
            "  \"eos_token_id\": 128001,\n",
            "  \"head_dim\": 64,\n",
            "  \"hidden_act\": \"silu\",\n",
            "  \"hidden_size\": 2048,\n",
            "  \"initializer_range\": 0.02,\n",
            "  \"intermediate_size\": 8192,\n",
            "  \"max_position_embeddings\": 131072,\n",
            "  \"mlp_bias\": false,\n",
            "  \"model_type\": \"llama\",\n",
            "  \"num_attention_heads\": 32,\n",
            "  \"num_hidden_layers\": 16,\n",
            "  \"num_key_value_heads\": 8,\n",
            "  \"pretraining_tp\": 1,\n",
            "  \"rms_norm_eps\": 1e-05,\n",
            "  \"rope_scaling\": {\n",
            "    \"factor\": 32.0,\n",
            "    \"high_freq_factor\": 4.0,\n",
            "    \"low_freq_factor\": 1.0,\n",
            "    \"original_max_position_embeddings\": 8192,\n",
            "    \"rope_type\": \"llama3\"\n",
            "  },\n",
            "  \"rope_theta\": 500000.0,\n",
            "  \"tie_word_embeddings\": true,\n",
            "  \"torch_dtype\": \"float16\",\n",
            "  \"transformers_version\": \"4.51.2\",\n",
            "  \"use_cache\": true,\n",
            "  \"vocab_size\": 128256\n",
            "}\n",
            "\n",
            "loading weights file /data/huggingface/meta/Llama-3.2-1B/model.safetensors\n",
            "Instantiating LlamaForCausalLM model under default dtype torch.float16.\n",
            "Generate config GenerationConfig {\n",
            "  \"bos_token_id\": 128000,\n",
            "  \"eos_token_id\": 128001\n",
            "}\n",
            "\n",
            "All model checkpoint weights were used when initializing LlamaForCausalLM.\n",
            "\n",
            "All the weights of LlamaForCausalLM were initialized from the model checkpoint at /data/huggingface/meta/Llama-3.2-1B.\n",
            "If your task is similar to the task the model of the checkpoint was trained on, you can already use LlamaForCausalLM for predictions without further training.\n",
            "loading configuration file /data/huggingface/meta/Llama-3.2-1B/generation_config.json\n",
            "Generate config GenerationConfig {\n",
            "  \"bos_token_id\": 128000,\n",
            "  \"do_sample\": true,\n",
            "  \"eos_token_id\": 128001,\n",
            "  \"temperature\": 0.6,\n",
            "  \"top_p\": 0.9\n",
            "}\n",
            "\n"
          ]
        }
      ],
      "source": [
        "from transformers import AutoModelForCausalLM\n",
        "from peft import PeftModel\n",
        "\n",
        "base = AutoModelForCausalLM.from_pretrained(model_id, torch_dtype=\"float16\")"
      ]
    },
    {
      "cell_type": "code",
      "execution_count": null,
      "id": "7ed7fab1-340f-4cda-85be-9d9c94629a42",
      "metadata": {
        "id": "7ed7fab1-340f-4cda-85be-9d9c94629a42",
        "outputId": "d735e601-35ea-49c1-ef02-d473b6123d69"
      },
      "outputs": [
        {
          "name": "stderr",
          "output_type": "stream",
          "text": [
            "Configuration saved in /home/kgd_tazhibaev/qlora/Llama-3.2-1B_FT/full_model/config.json\n",
            "Configuration saved in /home/kgd_tazhibaev/qlora/Llama-3.2-1B_FT/full_model/generation_config.json\n",
            "Model weights saved in /home/kgd_tazhibaev/qlora/Llama-3.2-1B_FT/full_model/model.safetensors\n",
            "tokenizer config file saved in /home/kgd_tazhibaev/qlora/Llama-3.2-1B_FT/full_model/tokenizer_config.json\n",
            "Special tokens file saved in /home/kgd_tazhibaev/qlora/Llama-3.2-1B_FT/full_model/special_tokens_map.json\n"
          ]
        },
        {
          "data": {
            "text/plain": [
              "('/home/kgd_tazhibaev/qlora/Llama-3.2-1B_FT/full_model/tokenizer_config.json',\n",
              " '/home/kgd_tazhibaev/qlora/Llama-3.2-1B_FT/full_model/special_tokens_map.json',\n",
              " '/home/kgd_tazhibaev/qlora/Llama-3.2-1B_FT/full_model/tokenizer.json')"
            ]
          },
          "execution_count": 60,
          "metadata": {},
          "output_type": "execute_result"
        }
      ],
      "source": [
        "ft_model.save_pretrained(\"/home/kgd_tazhibaev/qlora/Llama-3.2-1B_FT/full_model\")\n",
        "tokenizer.save_pretrained(\"/home/kgd_tazhibaev/qlora/Llama-3.2-1B_FT/full_model\")"
      ]
    }
  ],
  "metadata": {
    "kernelspec": {
      "display_name": "Python 3 (ipykernel)",
      "language": "python",
      "name": "python3"
    },
    "language_info": {
      "codemirror_mode": {
        "name": "ipython",
        "version": 3
      },
      "file_extension": ".py",
      "mimetype": "text/x-python",
      "name": "python",
      "nbconvert_exporter": "python",
      "pygments_lexer": "ipython3",
      "version": "3.10.12"
    },
    "colab": {
      "provenance": [],
      "toc_visible": true
    }
  },
  "nbformat": 4,
  "nbformat_minor": 5
}